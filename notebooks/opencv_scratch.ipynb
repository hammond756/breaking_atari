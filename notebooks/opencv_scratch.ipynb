{
 "cells": [
  {
   "cell_type": "code",
   "execution_count": 127,
   "metadata": {},
   "outputs": [],
   "source": [
    "import cv2\n",
    "import numpy as np\n",
    "import io\n",
    "from IPython.display import clear_output, Image, display\n",
    "import PIL.Image\n",
    "import math\n",
    "\n",
    "def showarray(a, fmt='jpeg'):\n",
    "    a = np.uint8(np.clip(a, 0, 255))\n",
    "    f = io.BytesIO()\n",
    "    PIL.Image.fromarray(a).save(f, fmt)\n",
    "    display(Image(data=f.getvalue()))\n",
    "    \n",
    "def draw_keypoints(vis, keypoints, color = (0, 255, 255)):\n",
    "    for kp in keypoints:\n",
    "            x, y = kp.pt\n",
    "            cv2.circle(vis, (int(x), int(y)), 2, color)"
   ]
  },
  {
   "cell_type": "code",
   "execution_count": 194,
   "metadata": {},
   "outputs": [
    {
     "data": {
      "image/jpeg": "[encoded data removed]",
      "text/plain": [
       "<IPython.core.display.Image object>"
      ]
     },
     "metadata": {},
     "output_type": "display_data"
    }
   ],
   "source": [
    "invaders = cv2.imread('dqn/frame_ep_0_t_100.png')\n",
    "showarray(invaders_gray)"
   ]
  },
  {
   "cell_type": "code",
   "execution_count": 142,
   "metadata": {},
   "outputs": [],
   "source": [
    "def read_averaged_template(path_a, path_b):\n",
    "    a = cv2.imread(path_a, 0)\n",
    "    b = cv2.imread(path_b, 0)\n",
    "    \n",
    "    avg = cv2.addWeighted(a,0.5,b,0.5,0)\n",
    "    \n",
    "    return a\n",
    "\n",
    "template_path = 'dqn/space_invader_sprites/enemy_{}_{}.png'\n",
    "\n",
    "templates = {\n",
    "    'enemy_0' : read_averaged_template(template_path.format(0, 'a'), template_path.format(0, 'b')),\n",
    "    'enemy_1' : read_averaged_template(template_path.format(1, 'a'), template_path.format(1, 'b')),\n",
    "    'enemy_2' : read_averaged_template(template_path.format(2, 'a'), template_path.format(2, 'b')),\n",
    "    'enemy_3' : read_averaged_template(template_path.format(3, 'a'), template_path.format(3, 'b')),\n",
    "    'enemy_4' : read_averaged_template(template_path.format(4, 'a'), template_path.format(4, 'b')),\n",
    "    'enemy_5' : read_averaged_template(template_path.format(5, 'a'), template_path.format(5, 'b')),\n",
    "    'self' : cv2.imread('dqn/space_invader_sprites/my_sprite.png', 0),\n",
    "    'defense' : cv2.imread('dqn/space_invader_sprites/defense.png', 0),\n",
    "}"
   ]
  },
  {
   "cell_type": "code",
   "execution_count": 192,
   "metadata": {},
   "outputs": [
    {
     "data": {
      "text/plain": [
       "9408"
      ]
     },
     "execution_count": 192,
     "metadata": {},
     "output_type": "execute_result"
    }
   ],
   "source": [
    "def tile(coords, grid):\n",
    "    new_y = np.floor(coords[0] / grid[0]).astype(np.int)\n",
    "    new_x = np.floor(coords[1] / grid[1]).astype(np.int)\n",
    "        \n",
    "    return new_y, new_x\n",
    "\n",
    "def location_features(template, observation, grid, threshold=0.8):\n",
    "    \n",
    "    assert type(grid) == type(np.array([0])), type(grid)\n",
    "    assert observation.shape[0] % grid[0] == 0\n",
    "    assert observation.shape[1] % grid[1] == 0\n",
    "\n",
    "    result = cv2.matchTemplate(observation, template, cv2.TM_CCORR_NORMED)\n",
    "    loc = np.where(result > threshold)\n",
    "    tiled = tile(loc, grid=grid)\n",
    "    \n",
    "    _new_shape = np.divide(observation.shape, grid).astype(np.int)\n",
    "    _zeros = np.zeros(_new_shape)\n",
    "    _zeros[tiled] = 1\n",
    "    flat = _zeros.flatten()\n",
    "    \n",
    "    return flat\n",
    "\n",
    "def extract_features(observation, grid=np.array((5,5))):\n",
    "    \n",
    "    gray = cv2.cvtColor(observation, cv2.COLOR_BGR2GRAY)\n",
    "\n",
    "    locs = []\n",
    "    for k, v in templates.items():\n",
    "        if 'enemy' not in k:\n",
    "            continue\n",
    "\n",
    "        _features = location_features(v, gray, grid=grid)\n",
    "        locs.append(_features)\n",
    "\n",
    "    _self = location_features(templates['self'], gray, grid=grid)\n",
    "    locs.append(_self)\n",
    "    \n",
    "    locs = np.concatenate(locs)\n",
    "    \n",
    "    return locs\n",
    "\n",
    "feats = extract_features(invaders)\n",
    "len(feats)"
   ]
  },
  {
   "cell_type": "code",
   "execution_count": 126,
   "metadata": {},
   "outputs": [
    {
     "data": {
      "image/jpeg": "[encoded data removed]",
      "text/plain": [
       "<IPython.core.display.Image object>"
      ]
     },
     "metadata": {},
     "output_type": "display_data"
    }
   ],
   "source": [
    "sub_image = invaders_gray[31:157, :] # ---> aliens\n",
    "# sub_image = invaders_gray[156:156+20, :] # ---> defenses\n",
    "# sub_image = invaders_gray[185:195,:] # ---> self\n",
    "showarray(sub_image)\n",
    "\n",
    "res = cv2.matchTemplate(sub_image, template,cv2.TM_CCOEFF_NORMED)"
   ]
  },
  {
   "cell_type": "code",
   "execution_count": 122,
   "metadata": {},
   "outputs": [
    {
     "data": {
      "text/plain": [
       "(array([5]), array([49]))"
      ]
     },
     "execution_count": 122,
     "metadata": {},
     "output_type": "execute_result"
    }
   ],
   "source": [
    "res[np.where(res > 0.7)]\n",
    "np.where(res > 0.7)"
   ]
  },
  {
   "cell_type": "code",
   "execution_count": null,
   "metadata": {},
   "outputs": [],
   "source": []
  }
 ],
 "metadata": {
  "kernelspec": {
   "display_name": "Python 3",
   "language": "python",
   "name": "python3"
  },
  "language_info": {
   "codemirror_mode": {
    "name": "ipython",
    "version": 3
   },
   "file_extension": ".py",
   "mimetype": "text/x-python",
   "name": "python",
   "nbconvert_exporter": "python",
   "pygments_lexer": "ipython3",
   "version": "3.7.2"
  }
 },
 "nbformat": 4,
 "nbformat_minor": 2
}
